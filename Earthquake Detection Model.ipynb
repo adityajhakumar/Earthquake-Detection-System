{
  "nbformat": 4,
  "nbformat_minor": 0,
  "metadata": {
    "colab": {
      "provenance": [],
      "gpuType": "T4",
      "authorship_tag": "ABX9TyNnLmK1Ganqbfxt803a10yL",
      "include_colab_link": true
    },
    "kernelspec": {
      "name": "python3",
      "display_name": "Python 3"
    },
    "language_info": {
      "name": "python"
    },
    "accelerator": "GPU"
  },
  "cells": [
    {
      "cell_type": "markdown",
      "metadata": {
        "id": "view-in-github",
        "colab_type": "text"
      },
      "source": [
        "<a href=\"https://colab.research.google.com/github/adityajhakumar/Earthquake-Detection-System/blob/main/Earthquake%20Detection%20Model.ipynb\" target=\"_parent\"><img src=\"https://colab.research.google.com/assets/colab-badge.svg\" alt=\"Open In Colab\"/></a>"
      ]
    },
    {
      "cell_type": "code",
      "execution_count": 1,
      "metadata": {
        "colab": {
          "base_uri": "https://localhost:8080/"
        },
        "id": "T5diFV-Y8Fn1",
        "outputId": "fbc5e739-7be9-4565-f089-4af960ff08b6"
      },
      "outputs": [
        {
          "output_type": "stream",
          "name": "stdout",
          "text": [
            "Requirement already satisfied: pandas in /usr/local/lib/python3.10/dist-packages (2.2.2)\n",
            "Requirement already satisfied: numpy in /usr/local/lib/python3.10/dist-packages (1.26.4)\n",
            "Requirement already satisfied: openpyxl in /usr/local/lib/python3.10/dist-packages (3.1.5)\n",
            "Requirement already satisfied: python-dateutil>=2.8.2 in /usr/local/lib/python3.10/dist-packages (from pandas) (2.8.2)\n",
            "Requirement already satisfied: pytz>=2020.1 in /usr/local/lib/python3.10/dist-packages (from pandas) (2024.2)\n",
            "Requirement already satisfied: tzdata>=2022.7 in /usr/local/lib/python3.10/dist-packages (from pandas) (2024.2)\n",
            "Requirement already satisfied: et-xmlfile in /usr/local/lib/python3.10/dist-packages (from openpyxl) (1.1.0)\n",
            "Requirement already satisfied: six>=1.5 in /usr/local/lib/python3.10/dist-packages (from python-dateutil>=2.8.2->pandas) (1.16.0)\n"
          ]
        }
      ],
      "source": [
        "pip install pandas numpy openpyxl\n"
      ]
    },
    {
      "cell_type": "code",
      "source": [
        "import pandas as pd\n",
        "import numpy as np\n",
        "\n",
        "def generate_realistic_data(num_samples, data_type, start_time=0):\n",
        "    # Generate time series data in seconds\n",
        "    time = np.arange(start_time, start_time + num_samples)\n",
        "\n",
        "    # Simulate accelerometer readings (e.g., in g's)\n",
        "    if data_type == 'earthquake':\n",
        "        # Earthquake conditions\n",
        "        accel_x = np.random.normal(loc=0, scale=1.0, size=num_samples)  # Higher variance\n",
        "        accel_y = np.random.normal(loc=0, scale=1.0, size=num_samples)\n",
        "        accel_z = np.random.normal(loc=1, scale=0.2, size=num_samples)  # Gravity pull with some noise\n",
        "        seismo_readings = np.random.normal(loc=5, scale=3, size=num_samples)  # Stronger signal\n",
        "    else:\n",
        "        # Normal conditions\n",
        "        accel_x = np.random.normal(loc=0, scale=0.1, size=num_samples)  # Low variance\n",
        "        accel_y = np.random.normal(loc=0, scale=0.1, size=num_samples)\n",
        "        accel_z = np.random.normal(loc=1, scale=0.05, size=num_samples)  # Gravity pull with very low noise\n",
        "        seismo_readings = np.random.normal(loc=0, scale=0.5, size=num_samples)  # Background noise\n",
        "\n",
        "    # Create a DataFrame\n",
        "    data = {\n",
        "        'Time': time,\n",
        "        'Accel_X': accel_x,\n",
        "        'Accel_Y': accel_y,\n",
        "        'Accel_Z': accel_z,\n",
        "        'Seismo_Reading': seismo_readings,\n",
        "        'Label': data_type\n",
        "    }\n",
        "    return pd.DataFrame(data)\n",
        "\n",
        "# Generate balanced training and testing datasets\n",
        "num_samples = 1000  # Total samples for each category\n",
        "train_data_normal = generate_realistic_data(num_samples, 'normal')\n",
        "train_data_earthquake = generate_realistic_data(num_samples, 'earthquake')\n",
        "\n",
        "test_data_normal = generate_realistic_data(num_samples // 2, 'normal')\n",
        "test_data_earthquake = generate_realistic_data(num_samples // 2, 'earthquake')\n",
        "\n",
        "# Combine normal and earthquake data for train and test sets\n",
        "train_data = pd.concat([train_data_normal, train_data_earthquake], ignore_index=True)\n",
        "test_data = pd.concat([test_data_normal, test_data_earthquake], ignore_index=True)\n",
        "\n",
        "# Shuffle the datasets\n",
        "train_data = train_data.sample(frac=1).reset_index(drop=True)\n",
        "test_data = test_data.sample(frac=1).reset_index(drop=True)\n",
        "\n",
        "# Save to Excel\n",
        "with pd.ExcelWriter('balanced_earthquake_detection_dataset.xlsx', engine='openpyxl') as writer:\n",
        "    train_data.to_excel(writer, sheet_name='Train', index=False)\n",
        "    test_data.to_excel(writer, sheet_name='Test', index=False)\n",
        "\n",
        "print(\"Balanced dataset created and saved to 'balanced_earthquake_detection_dataset.xlsx'.\")\n"
      ],
      "metadata": {
        "colab": {
          "base_uri": "https://localhost:8080/"
        },
        "id": "zzf5W8Wq9col",
        "outputId": "0376fa2e-d068-4ba0-8c03-ef8fa6e90d56"
      },
      "execution_count": 4,
      "outputs": [
        {
          "output_type": "stream",
          "name": "stdout",
          "text": [
            "Balanced dataset created and saved to 'balanced_earthquake_detection_dataset.xlsx'.\n"
          ]
        }
      ]
    },
    {
      "cell_type": "code",
      "source": [
        "pip install pandas numpy scikit-learn matplotlib seaborn\n"
      ],
      "metadata": {
        "colab": {
          "base_uri": "https://localhost:8080/"
        },
        "id": "0IyyLOmI-nq1",
        "outputId": "1fdb522b-193d-4200-d9df-ece670a47a9d"
      },
      "execution_count": 5,
      "outputs": [
        {
          "output_type": "stream",
          "name": "stdout",
          "text": [
            "Requirement already satisfied: pandas in /usr/local/lib/python3.10/dist-packages (2.2.2)\n",
            "Requirement already satisfied: numpy in /usr/local/lib/python3.10/dist-packages (1.26.4)\n",
            "Requirement already satisfied: scikit-learn in /usr/local/lib/python3.10/dist-packages (1.5.2)\n",
            "Requirement already satisfied: matplotlib in /usr/local/lib/python3.10/dist-packages (3.7.1)\n",
            "Requirement already satisfied: seaborn in /usr/local/lib/python3.10/dist-packages (0.13.1)\n",
            "Requirement already satisfied: python-dateutil>=2.8.2 in /usr/local/lib/python3.10/dist-packages (from pandas) (2.8.2)\n",
            "Requirement already satisfied: pytz>=2020.1 in /usr/local/lib/python3.10/dist-packages (from pandas) (2024.2)\n",
            "Requirement already satisfied: tzdata>=2022.7 in /usr/local/lib/python3.10/dist-packages (from pandas) (2024.2)\n",
            "Requirement already satisfied: scipy>=1.6.0 in /usr/local/lib/python3.10/dist-packages (from scikit-learn) (1.13.1)\n",
            "Requirement already satisfied: joblib>=1.2.0 in /usr/local/lib/python3.10/dist-packages (from scikit-learn) (1.4.2)\n",
            "Requirement already satisfied: threadpoolctl>=3.1.0 in /usr/local/lib/python3.10/dist-packages (from scikit-learn) (3.5.0)\n",
            "Requirement already satisfied: contourpy>=1.0.1 in /usr/local/lib/python3.10/dist-packages (from matplotlib) (1.3.0)\n",
            "Requirement already satisfied: cycler>=0.10 in /usr/local/lib/python3.10/dist-packages (from matplotlib) (0.12.1)\n",
            "Requirement already satisfied: fonttools>=4.22.0 in /usr/local/lib/python3.10/dist-packages (from matplotlib) (4.54.1)\n",
            "Requirement already satisfied: kiwisolver>=1.0.1 in /usr/local/lib/python3.10/dist-packages (from matplotlib) (1.4.7)\n",
            "Requirement already satisfied: packaging>=20.0 in /usr/local/lib/python3.10/dist-packages (from matplotlib) (24.1)\n",
            "Requirement already satisfied: pillow>=6.2.0 in /usr/local/lib/python3.10/dist-packages (from matplotlib) (10.4.0)\n",
            "Requirement already satisfied: pyparsing>=2.3.1 in /usr/local/lib/python3.10/dist-packages (from matplotlib) (3.1.4)\n",
            "Requirement already satisfied: six>=1.5 in /usr/local/lib/python3.10/dist-packages (from python-dateutil>=2.8.2->pandas) (1.16.0)\n"
          ]
        }
      ]
    },
    {
      "cell_type": "code",
      "source": [
        "import pandas as pd\n",
        "import numpy as np\n",
        "import matplotlib.pyplot as plt\n",
        "import seaborn as sns\n",
        "from sklearn.model_selection import train_test_split, GridSearchCV\n",
        "from sklearn.preprocessing import StandardScaler\n",
        "from sklearn.ensemble import RandomForestClassifier\n",
        "from sklearn.metrics import classification_report, confusion_matrix, accuracy_score\n",
        "import joblib  # Import joblib for saving the model\n",
        "from imblearn.over_sampling import SMOTE\n",
        "\n",
        "# Load the dataset\n",
        "data = pd.read_excel('balanced_earthquake_detection_dataset.xlsx', sheet_name=None)\n",
        "train_data = data['Train']\n",
        "test_data = data['Test']\n",
        "\n",
        "# Combine train and test data for preprocessing\n",
        "combined_data = pd.concat([train_data, test_data], ignore_index=True)\n",
        "\n",
        "# Preprocess the data\n",
        "# Encode the labels\n",
        "combined_data['Label'] = combined_data['Label'].map({'normal': 0, 'earthquake': 1})\n",
        "\n",
        "# Split the data into features and target\n",
        "X = combined_data[['Time', 'Accel_X', 'Accel_Y', 'Accel_Z', 'Seismo_Reading']]\n",
        "y = combined_data['Label']\n",
        "\n",
        "# Split into train, validation, and test sets (60% train, 20% validation, 20% test)\n",
        "X_train, X_temp, y_train, y_temp = train_test_split(X, y, test_size=0.4, random_state=42)\n",
        "X_val, X_test, y_val, y_test = train_test_split(X_temp, y_temp, test_size=0.5, random_state=42)\n",
        "\n",
        "# Scale the features\n",
        "scaler = StandardScaler()\n",
        "X_train_scaled = scaler.fit_transform(X_train)\n",
        "X_val_scaled = scaler.transform(X_val)\n",
        "X_test_scaled = scaler.transform(X_test)\n",
        "\n",
        "# Resample the training data to balance classes using SMOTE\n",
        "smote = SMOTE(random_state=42)\n",
        "X_train_resampled, y_train_resampled = smote.fit_resample(X_train_scaled, y_train)\n",
        "\n",
        "# Define the parameter grid for hyperparameter tuning\n",
        "param_grid = {\n",
        "    'n_estimators': [100, 200, 300],\n",
        "    'max_depth': [None, 10, 20, 30],\n",
        "    'min_samples_split': [2, 5, 10],\n",
        "    'min_samples_leaf': [1, 2, 4],\n",
        "    'class_weight': ['balanced', None]  # Adjust class weights\n",
        "}\n",
        "\n",
        "# Create a Random Forest model\n",
        "model = RandomForestClassifier(random_state=42)\n",
        "\n",
        "# Create a GridSearchCV object for hyperparameter tuning\n",
        "grid_search = GridSearchCV(estimator=model, param_grid=param_grid,\n",
        "                           cv=5, n_jobs=-1, verbose=2)  # Increased folds for more robust evaluation\n",
        "\n",
        "# Fit the grid search to the resampled training data\n",
        "grid_search.fit(X_train_resampled, y_train_resampled)\n",
        "\n",
        "# Best parameters and score\n",
        "print(f'Best Parameters: {grid_search.best_params_}')\n",
        "print(f'Best Cross-Validation Score: {grid_search.best_score_}')\n",
        "\n",
        "# Train the final model with the best parameters\n",
        "best_model = grid_search.best_estimator_\n",
        "best_model.fit(X_train_resampled, y_train_resampled)\n",
        "\n",
        "# Validate the model with the validation set\n",
        "y_val_pred = best_model.predict(X_val_scaled)\n",
        "\n",
        "# Print evaluation metrics for the validation set\n",
        "print(\"Validation Classification Report:\")\n",
        "print(classification_report(y_val, y_val_pred))\n",
        "\n",
        "# Confusion Matrix for the validation set\n",
        "confusion_mtx = confusion_matrix(y_val, y_val_pred)\n",
        "plt.figure(figsize=(6, 4))\n",
        "sns.heatmap(confusion_mtx, annot=True, fmt='d', cmap='Blues',\n",
        "            xticklabels=['Normal', 'Earthquake'],\n",
        "            yticklabels=['Normal', 'Earthquake'])\n",
        "plt.title('Confusion Matrix (Validation Set)')\n",
        "plt.xlabel('Predicted')\n",
        "plt.ylabel('Actual')\n",
        "plt.show()\n",
        "\n",
        "# Test the model with the test set\n",
        "y_test_pred = best_model.predict(X_test_scaled)\n",
        "\n",
        "# Print test accuracy\n",
        "test_accuracy = accuracy_score(y_test, y_test_pred)\n",
        "print(f'Test Accuracy: {test_accuracy:.2f}')\n",
        "\n",
        "# Save the trained model\n",
        "joblib.dump(best_model, 'random_forest_model.joblib')\n",
        "\n",
        "# Save the scaler for later use\n",
        "joblib.dump(scaler, 'scaler.joblib')\n",
        "\n",
        "# Function to generate synthetic data for testing the model\n",
        "def generate_synthetic_data(num_samples=5):\n",
        "    \"\"\" Generate synthetic earthquake data for testing. \"\"\"\n",
        "    synthetic_time = np.random.uniform(0, 1000, num_samples)  # Example time values\n",
        "    synthetic_accel_x = np.random.uniform(-2, 2, num_samples)\n",
        "    synthetic_accel_y = np.random.uniform(-2, 2, num_samples)\n",
        "    synthetic_accel_z = np.random.uniform(-2, 2, num_samples)\n",
        "    synthetic_seismo_reading = np.random.uniform(0, 10, num_samples)  # Example seismic readings\n",
        "\n",
        "    synthetic_data = pd.DataFrame({\n",
        "        'Time': synthetic_time,\n",
        "        'Accel_X': synthetic_accel_x,\n",
        "        'Accel_Y': synthetic_accel_y,\n",
        "        'Accel_Z': synthetic_accel_z,\n",
        "        'Seismo_Reading': synthetic_seismo_reading\n",
        "    })\n",
        "\n",
        "    # Scale the synthetic data using the saved scaler\n",
        "    synthetic_data_scaled = scaler.transform(synthetic_data)\n",
        "\n",
        "    # Make predictions on synthetic data\n",
        "    synthetic_predictions = best_model.predict(synthetic_data_scaled)\n",
        "\n",
        "    return synthetic_data, synthetic_predictions\n",
        "\n",
        "# Generate and test synthetic data\n",
        "synthetic_data, synthetic_predictions = generate_synthetic_data(num_samples=10)\n",
        "synthetic_data['Predicted_Label'] = synthetic_predictions\n",
        "\n",
        "print(\"Synthetic Data Predictions:\")\n",
        "print(synthetic_data)\n"
      ],
      "metadata": {
        "colab": {
          "base_uri": "https://localhost:8080/",
          "height": 861
        },
        "id": "naWIU8BLEPgf",
        "outputId": "f1bd8d8f-3199-4631-9bc6-01558fdeea29"
      },
      "execution_count": 29,
      "outputs": [
        {
          "output_type": "stream",
          "name": "stdout",
          "text": [
            "Fitting 5 folds for each of 216 candidates, totalling 1080 fits\n",
            "Best Parameters: {'class_weight': 'balanced', 'max_depth': 10, 'min_samples_leaf': 4, 'min_samples_split': 10, 'n_estimators': 100}\n",
            "Best Cross-Validation Score: 0.9944827481241344\n",
            "Validation Classification Report:\n",
            "              precision    recall  f1-score   support\n",
            "\n",
            "           0       1.00      0.99      0.99       301\n",
            "           1       0.99      1.00      1.00       299\n",
            "\n",
            "    accuracy                           0.99       600\n",
            "   macro avg       1.00      1.00      0.99       600\n",
            "weighted avg       1.00      0.99      0.99       600\n",
            "\n"
          ]
        },
        {
          "output_type": "display_data",
          "data": {
            "text/plain": [
              "<Figure size 600x400 with 2 Axes>"
            ],
            "image/png": "[encoded data removed]"
          },
          "metadata": {}
        },
        {
          "output_type": "stream",
          "name": "stdout",
          "text": [
            "Test Accuracy: 0.99\n",
            "Synthetic Data Predictions:\n",
            "         Time   Accel_X   Accel_Y   Accel_Z  Seismo_Reading  Predicted_Label\n",
            "0  706.248215 -1.575041 -1.688511 -1.100096        5.777394                1\n",
            "1  193.515300 -0.334322 -0.612882  0.014062        8.349924                1\n",
            "2  554.767176  0.323370 -1.901407  0.997805        4.954590                1\n",
            "3  526.316440  0.104811  0.528641 -0.554708        6.957624                1\n",
            "4  495.470138 -0.475379  1.525075  0.400859        4.976456                1\n",
            "5  368.550589  0.248155  0.981610 -0.443916        9.615674                1\n",
            "6  582.733564  1.391127  0.255257 -0.967421        8.533101                1\n",
            "7  894.457204  1.631142 -1.489257 -0.948200        7.243846                1\n",
            "8  130.632987 -0.317116  0.697190  0.978059        6.575702                1\n",
            "9  470.833030 -1.335583  1.870381  1.191697        6.153696                1\n"
          ]
        }
      ]
    },
    {
      "cell_type": "code",
      "source": [
        "import pandas as pd\n",
        "import numpy as np\n",
        "import joblib\n",
        "from sklearn.preprocessing import StandardScaler\n",
        "from sklearn.metrics import accuracy_score\n",
        "\n",
        "# Function to generate random synthetic data\n",
        "def generate_synthetic_data(num_samples):\n",
        "    # Generate random Time (0 to 1000 seconds)\n",
        "    time = np.random.uniform(0, 1000, num_samples)\n",
        "\n",
        "    # Generate random accelerometer readings (X, Y, Z)\n",
        "    accel_x = np.random.uniform(-2, 2, num_samples)  # Assuming readings can range from -2g to +2g\n",
        "    accel_y = np.random.uniform(-2, 2, num_samples)\n",
        "    accel_z = np.random.uniform(-2, 2, num_samples)\n",
        "\n",
        "    # Generate random Seismo readings (0 to 10)\n",
        "    seismo_reading = np.random.uniform(0, 10, num_samples)\n",
        "\n",
        "    # Create a DataFrame\n",
        "    synthetic_data = pd.DataFrame({\n",
        "        'Time': time,\n",
        "        'Accel_X': accel_x,\n",
        "        'Accel_Y': accel_y,\n",
        "        'Accel_Z': accel_z,\n",
        "        'Seismo_Reading': seismo_reading\n",
        "    })\n",
        "\n",
        "    return synthetic_data\n",
        "\n",
        "# Load the pre-trained model and scaler\n",
        "model = joblib.load('random_forest_model.joblib')\n",
        "scaler = joblib.load('scaler.joblib')\n",
        "\n",
        "# Generate synthetic unseen data\n",
        "num_samples = 1000\n",
        "synthetic_data = generate_synthetic_data(num_samples)\n",
        "\n",
        "# Scale the features using the same scaler used during training\n",
        "# Include 'Time' during transformation\n",
        "synthetic_data_scaled = scaler.transform(synthetic_data[['Time', 'Accel_X', 'Accel_Y', 'Accel_Z', 'Seismo_Reading']])\n",
        "\n",
        "# Make predictions on synthetic data\n",
        "predictions = model.predict(synthetic_data_scaled)\n",
        "\n",
        "# Create labels for synthetic data using a threshold of 5 for Seismo_Reading\n",
        "labels = (synthetic_data['Seismo_Reading'] > 5).astype(int)  # Label as earthquake if reading > 5\n",
        "\n",
        "# Calculate accuracy\n",
        "accuracy = accuracy_score(labels, predictions)\n",
        "print(f'Accuracy on Unseen Synthetic Data: {accuracy:.2f}')\n",
        "\n",
        "# Display some predictions alongside actual labels\n",
        "result_df = synthetic_data.copy()\n",
        "result_df['Predicted_Label'] = predictions\n",
        "result_df['Actual_Label'] = labels\n",
        "print(result_df.head())  # Show first few rows of the results\n"
      ],
      "metadata": {
        "colab": {
          "base_uri": "https://localhost:8080/"
        },
        "id": "eua7RSEXFuEt",
        "outputId": "129615f1-7ce5-490d-d501-61926e99bef9"
      },
      "execution_count": 31,
      "outputs": [
        {
          "output_type": "stream",
          "name": "stdout",
          "text": [
            "Accuracy on Unseen Synthetic Data: 0.53\n",
            "         Time   Accel_X   Accel_Y   Accel_Z  Seismo_Reading  Predicted_Label  \\\n",
            "0  621.450392  1.038802  1.295220 -1.664139        0.490148                1   \n",
            "1  995.270397  0.574505  0.709816  1.211396        4.706839                1   \n",
            "2  148.938584  1.508633  0.040614 -1.628106        9.280521                1   \n",
            "3  943.848694 -0.866037  1.764666 -0.911131        6.034416                1   \n",
            "4    0.803181 -0.647824 -1.641081 -1.511845        4.716019                1   \n",
            "\n",
            "   Actual_Label  \n",
            "0             0  \n",
            "1             0  \n",
            "2             1  \n",
            "3             1  \n",
            "4             0  \n"
          ]
        }
      ]
    }
  ]
}